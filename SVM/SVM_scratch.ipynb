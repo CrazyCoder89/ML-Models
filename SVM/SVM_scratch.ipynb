{
  "nbformat": 4,
  "nbformat_minor": 0,
  "metadata": {
    "colab": {
      "provenance": []
    },
    "kernelspec": {
      "name": "python3",
      "display_name": "Python 3"
    },
    "language_info": {
      "name": "python"
    }
  },
  "cells": [
    {
      "cell_type": "markdown",
      "source": [
        "**SVM Classifier**"
      ],
      "metadata": {
        "id": "FSJFic2_WGnn"
      }
    },
    {
      "cell_type": "markdown",
      "source": [
        "Equation of the Hyperplane:\n",
        "\n",
        "**y = wx - b**"
      ],
      "metadata": {
        "id": "kO_YmTSrWPJ-"
      }
    },
    {
      "cell_type": "markdown",
      "source": [
        "**Gradient Descent:**\n",
        "\n",
        "Gradient Descent is an optimization algorithm used for minimizing the loss function in various machine learning algorithms. It is used for updating the parameters of the learning model.\n",
        "\n",
        "w  =  w - α*dw\n",
        "\n",
        "b  =  b - α*db"
      ],
      "metadata": {
        "id": "wVoth2J1WS78"
      }
    },
    {
      "cell_type": "markdown",
      "source": [
        "**Learning Rate:**\n",
        "\n",
        "Learning rate is a tuning parameter in an optimization algorithm that determines the step size at each iteration while moving toward a minimum of a loss function."
      ],
      "metadata": {
        "id": "gNExBjcjWa63"
      }
    },
    {
      "cell_type": "code",
      "source": [
        "#importing the dependencies\n",
        "import numpy as np"
      ],
      "metadata": {
        "id": "6-an1gGMWccC"
      },
      "execution_count": null,
      "outputs": []
    },
    {
      "cell_type": "markdown",
      "source": [
        "Support Vector Machine Classifier"
      ],
      "metadata": {
        "id": "GsRIjJ6EXWVC"
      }
    },
    {
      "cell_type": "code",
      "source": [
        "class SVM_Classifier():\n",
        "\n",
        "  #initiating the hyperparameters\n",
        "  def __init__(self,learning_rate,no_of_iterations,lambda_parameter):\n",
        "    self.learning_rate = learning_rate\n",
        "    self.no_of_iterations = no_of_iterations\n",
        "    self.lambda_paraneter = lambda_parameter\n",
        "\n",
        "  #fitting dataset to svm classifier\n",
        "  def fit(self,X,Y):\n",
        "\n",
        "    # m  --> number of Data points --> number of rows\n",
        "    # n  --> number of input features --> number of columns\n",
        "    self.m,self.n = X.shape\n",
        "\n",
        "    #initiating the weight value and bias value\n",
        "    self.w = np.zeros(self.n)\n",
        "    self.b = 0\n",
        "    self.X = X\n",
        "    self.Y = Y\n",
        "\n",
        "    #implementing the Gradient Descent algorithm for optimization\n",
        "\n",
        "    for i in range(self.no_of_iterations):\n",
        "      self.update_weights()\n",
        "\n",
        "  #function for updating the weight and bias value\n",
        "  def update_weights(self):\n",
        "\n",
        "    #label encoding\n",
        "    y_label = np.where(self.Y <= 0,-1,1)\n",
        "\n",
        "    #gradients (dw,db)\n",
        "    for index, x_i in enumerate(self.X):\n",
        "      condition = y_label[index] * (np.dot(x_i, self.w) - self.b) >= 1\n",
        "\n",
        "      if (condition == True):\n",
        "\n",
        "        dw = 2 * self.lambda_parameter * self.w\n",
        "        db = 0\n",
        "\n",
        "      else:\n",
        "\n",
        "        dw = 2 * self.lambda_parameter * self.w - np.dot(x_i, y_label[index])\n",
        "        db = y_label[index]\n",
        "\n",
        "\n",
        "      self.w = self.w - self.learning_rate * dw\n",
        "\n",
        "      self.b = self.b - self.learning_rate * db\n",
        "\n",
        "  #predict the label for given input query\n",
        "  def predict(self,X):\n",
        "\n",
        "    output = np.dot(X, self.w) - self.b\n",
        "\n",
        "    predicted_labels = np.sign(output)\n",
        "\n",
        "    y_hat = np.where(predicted_labels <= -1, 0, 1)\n",
        "\n",
        "    return y_hat\n"
      ],
      "metadata": {
        "id": "7QCfaO6IXyD3"
      },
      "execution_count": null,
      "outputs": []
    },
    {
      "cell_type": "code",
      "source": [
        "model=SVM_Classifier(learning_rate=0.001,no_of_iterations=1000,lambda_parameter=0.01)"
      ],
      "metadata": {
        "id": "3vQI7P9Wa53e"
      },
      "execution_count": null,
      "outputs": []
    },
    {
      "cell_type": "code",
      "source": [
        "#enumerate function\n",
        "my_list = [10,20,30,40,50]\n",
        "\n",
        "for i ,j in enumerate(my_list):\n",
        "  print(i,j)"
      ],
      "metadata": {
        "colab": {
          "base_uri": "https://localhost:8080/"
        },
        "id": "mrovwrbptEqm",
        "outputId": "63118d3e-98e6-4c97-db41-eefe97e00db7"
      },
      "execution_count": null,
      "outputs": [
        {
          "output_type": "stream",
          "name": "stdout",
          "text": [
            "0 10\n",
            "1 20\n",
            "2 30\n",
            "3 40\n",
            "4 50\n"
          ]
        }
      ]
    },
    {
      "cell_type": "code",
      "source": [],
      "metadata": {
        "id": "ueNBxAWttVJs"
      },
      "execution_count": null,
      "outputs": []
    }
  ]
}